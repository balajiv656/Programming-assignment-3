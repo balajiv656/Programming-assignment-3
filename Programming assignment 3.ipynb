{
 "cells": [
  {
   "cell_type": "markdown",
   "metadata": {},
   "source": [
    "1. Write a Python Program to Check if a Number is Positive, Negative or Zero?"
   ]
  },
  {
   "cell_type": "code",
   "execution_count": 4,
   "metadata": {},
   "outputs": [
    {
     "name": "stdout",
     "output_type": "stream",
     "text": [
      "Enter the number: 5\n",
      "The Number is Positive\n"
     ]
    }
   ],
   "source": [
    "Number=int(input(\"Enter the number: \"))\n",
    "\n",
    "if Number>0:\n",
    "    print(\"The Number is Positive\")\n",
    "elif Number==0:\n",
    "    print(\"The Number is Zero\")\n",
    "elif Number<0:\n",
    "    print(\"The Number is Negative\")"
   ]
  },
  {
   "cell_type": "markdown",
   "metadata": {},
   "source": [
    "2. Write a Python Program to Check if a Number is Odd or Even?"
   ]
  },
  {
   "cell_type": "code",
   "execution_count": 5,
   "metadata": {},
   "outputs": [
    {
     "name": "stdout",
     "output_type": "stream",
     "text": [
      "Enter the number: 6\n",
      "6 is even number \n"
     ]
    }
   ],
   "source": [
    "num=int(input(\"Enter the number: \"))\n",
    "\n",
    "if num%2==0:\n",
    "    print(\"{0} is even number \".format(num))\n",
    "else:\n",
    "    print(\"{0} is odd number \".format(num))"
   ]
  },
  {
   "cell_type": "markdown",
   "metadata": {},
   "source": [
    "3. Write a Python Program to Check Leap Year?"
   ]
  },
  {
   "cell_type": "code",
   "execution_count": 1,
   "metadata": {},
   "outputs": [
    {
     "name": "stdout",
     "output_type": "stream",
     "text": [
      "Enter the year: 1999\n",
      "1999 is not a leap year\n"
     ]
    }
   ],
   "source": [
    "year=int(input(\"Enter the year: \"))\n",
    "\n",
    "if year%4==0:\n",
    "    if year%100==0:\n",
    "        if year%400==0:\n",
    "            print(\"{0} is a leap year\".format(year))\n",
    "        else:\n",
    "            print(\"{0} is not a leap year\".format(year))\n",
    "    else:\n",
    "        print(\"{0} is a leap year\".format(year))\n",
    "else:\n",
    "    print(\"{0} is not a leap year\".format(year))"
   ]
  },
  {
   "cell_type": "markdown",
   "metadata": {},
   "source": [
    "4. Write a Python Program to Check Prime Number?"
   ]
  },
  {
   "cell_type": "code",
   "execution_count": 2,
   "metadata": {},
   "outputs": [
    {
     "name": "stdout",
     "output_type": "stream",
     "text": [
      "It is a prime number\n"
     ]
    }
   ],
   "source": [
    "num=7\n",
    "\n",
    "for i in range(2,num):\n",
    "    if num%i==0:\n",
    "        print(\"It is not a prime number\")\n",
    "        break\n",
    "else:\n",
    "    print(\"It is a prime number\")"
   ]
  },
  {
   "cell_type": "markdown",
   "metadata": {},
   "source": [
    "5. Write a Python Program to Print all Prime Numbers in an Interval of 1-10000?"
   ]
  },
  {
   "cell_type": "code",
   "execution_count": 5,
   "metadata": {},
   "outputs": [
    {
     "name": "stdout",
     "output_type": "stream",
     "text": [
      "this is a prime number: 2\n",
      "this is a prime number: 3\n",
      "this is a prime number: 5\n",
      "this is a prime number: 7\n",
      "this is a prime number: 11\n",
      "this is a prime number: 13\n",
      "this is a prime number: 17\n",
      "this is a prime number: 19\n",
      "this is a prime number: 23\n",
      "this is a prime number: 29\n",
      "this is a prime number: 31\n",
      "this is a prime number: 37\n",
      "this is a prime number: 41\n",
      "this is a prime number: 43\n",
      "this is a prime number: 47\n",
      "this is a prime number: 53\n",
      "this is a prime number: 59\n",
      "this is a prime number: 61\n",
      "this is a prime number: 67\n",
      "this is a prime number: 71\n",
      "this is a prime number: 73\n",
      "this is a prime number: 79\n",
      "this is a prime number: 83\n",
      "this is a prime number: 89\n",
      "this is a prime number: 97\n",
      "this is a prime number: 101\n",
      "this is a prime number: 103\n",
      "this is a prime number: 107\n",
      "this is a prime number: 109\n",
      "this is a prime number: 113\n",
      "this is a prime number: 127\n",
      "this is a prime number: 131\n",
      "this is a prime number: 137\n",
      "this is a prime number: 139\n",
      "this is a prime number: 149\n",
      "this is a prime number: 151\n",
      "this is a prime number: 157\n",
      "this is a prime number: 163\n",
      "this is a prime number: 167\n",
      "this is a prime number: 173\n",
      "this is a prime number: 179\n",
      "this is a prime number: 181\n",
      "this is a prime number: 191\n",
      "this is a prime number: 193\n",
      "this is a prime number: 197\n",
      "this is a prime number: 199\n",
      "this is a prime number: 211\n",
      "this is a prime number: 223\n",
      "this is a prime number: 227\n",
      "this is a prime number: 229\n",
      "this is a prime number: 233\n",
      "this is a prime number: 239\n",
      "this is a prime number: 241\n",
      "this is a prime number: 251\n",
      "this is a prime number: 257\n",
      "this is a prime number: 263\n",
      "this is a prime number: 269\n",
      "this is a prime number: 271\n",
      "this is a prime number: 277\n",
      "this is a prime number: 281\n",
      "this is a prime number: 283\n",
      "this is a prime number: 293\n",
      "this is a prime number: 307\n",
      "this is a prime number: 311\n",
      "this is a prime number: 313\n",
      "this is a prime number: 317\n",
      "this is a prime number: 331\n",
      "this is a prime number: 337\n",
      "this is a prime number: 347\n",
      "this is a prime number: 349\n",
      "this is a prime number: 353\n",
      "this is a prime number: 359\n",
      "this is a prime number: 367\n",
      "this is a prime number: 373\n",
      "this is a prime number: 379\n",
      "this is a prime number: 383\n",
      "this is a prime number: 389\n",
      "this is a prime number: 397\n",
      "this is a prime number: 401\n",
      "this is a prime number: 409\n",
      "this is a prime number: 419\n",
      "this is a prime number: 421\n",
      "this is a prime number: 431\n",
      "this is a prime number: 433\n",
      "this is a prime number: 439\n",
      "this is a prime number: 443\n",
      "this is a prime number: 449\n",
      "this is a prime number: 457\n",
      "this is a prime number: 461\n",
      "this is a prime number: 463\n",
      "this is a prime number: 467\n",
      "this is a prime number: 479\n",
      "this is a prime number: 487\n",
      "this is a prime number: 491\n",
      "this is a prime number: 499\n",
      "this is a prime number: 503\n",
      "this is a prime number: 509\n",
      "this is a prime number: 521\n",
      "this is a prime number: 523\n",
      "this is a prime number: 541\n",
      "this is a prime number: 547\n",
      "this is a prime number: 557\n",
      "this is a prime number: 563\n",
      "this is a prime number: 569\n",
      "this is a prime number: 571\n",
      "this is a prime number: 577\n",
      "this is a prime number: 587\n",
      "this is a prime number: 593\n",
      "this is a prime number: 599\n",
      "this is a prime number: 601\n",
      "this is a prime number: 607\n",
      "this is a prime number: 613\n",
      "this is a prime number: 617\n",
      "this is a prime number: 619\n",
      "this is a prime number: 631\n",
      "this is a prime number: 641\n",
      "this is a prime number: 643\n",
      "this is a prime number: 647\n",
      "this is a prime number: 653\n",
      "this is a prime number: 659\n",
      "this is a prime number: 661\n",
      "this is a prime number: 673\n",
      "this is a prime number: 677\n",
      "this is a prime number: 683\n",
      "this is a prime number: 691\n",
      "this is a prime number: 701\n",
      "this is a prime number: 709\n",
      "this is a prime number: 719\n",
      "this is a prime number: 727\n",
      "this is a prime number: 733\n",
      "this is a prime number: 739\n",
      "this is a prime number: 743\n",
      "this is a prime number: 751\n",
      "this is a prime number: 757\n",
      "this is a prime number: 761\n",
      "this is a prime number: 769\n",
      "this is a prime number: 773\n",
      "this is a prime number: 787\n",
      "this is a prime number: 797\n",
      "this is a prime number: 809\n",
      "this is a prime number: 811\n",
      "this is a prime number: 821\n",
      "this is a prime number: 823\n",
      "this is a prime number: 827\n",
      "this is a prime number: 829\n",
      "this is a prime number: 839\n",
      "this is a prime number: 853\n",
      "this is a prime number: 857\n",
      "this is a prime number: 859\n",
      "this is a prime number: 863\n",
      "this is a prime number: 877\n",
      "this is a prime number: 881\n",
      "this is a prime number: 883\n",
      "this is a prime number: 887\n",
      "this is a prime number: 907\n",
      "this is a prime number: 911\n",
      "this is a prime number: 919\n",
      "this is a prime number: 929\n",
      "this is a prime number: 937\n",
      "this is a prime number: 941\n",
      "this is a prime number: 947\n",
      "this is a prime number: 953\n",
      "this is a prime number: 967\n",
      "this is a prime number: 971\n",
      "this is a prime number: 977\n",
      "this is a prime number: 983\n",
      "this is a prime number: 991\n",
      "this is a prime number: 997\n"
     ]
    }
   ],
   "source": [
    "start=1\n",
    "end=1000\n",
    "\n",
    "for num in range(start,end+1):\n",
    "    \n",
    "    if num>1:\n",
    "        for i in range(2,num):\n",
    "            if(num%i)==0:\n",
    "                break\n",
    "        else:\n",
    "            print(\"this is a prime number:\",num)"
   ]
  },
  {
   "cell_type": "code",
   "execution_count": null,
   "metadata": {},
   "outputs": [],
   "source": []
  }
 ],
 "metadata": {
  "kernelspec": {
   "display_name": "Python 3",
   "language": "python",
   "name": "python3"
  },
  "language_info": {
   "codemirror_mode": {
    "name": "ipython",
    "version": 3
   },
   "file_extension": ".py",
   "mimetype": "text/x-python",
   "name": "python",
   "nbconvert_exporter": "python",
   "pygments_lexer": "ipython3",
   "version": "3.7.1"
  }
 },
 "nbformat": 4,
 "nbformat_minor": 2
}
